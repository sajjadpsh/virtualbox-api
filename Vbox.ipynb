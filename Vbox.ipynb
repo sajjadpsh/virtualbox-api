{
 "cells": [
  {
   "cell_type": "code",
   "execution_count": 1,
   "metadata": {
    "pycharm": {
     "is_executing": false
    }
   },
   "outputs": [],
   "source": [
    "import virtualbox"
   ]
  },
  {
   "cell_type": "code",
   "execution_count": 2,
   "metadata": {
    "pycharm": {
     "is_executing": false
    }
   },
   "outputs": [],
   "source": [
    "vbox = virtualbox.VirtualBox()\n",
    "vmanager = virtualbox.Manager()"
   ]
  },
  {
   "cell_type": "code",
   "execution_count": 3,
   "metadata": {
    "pycharm": {
     "is_executing": false
    }
   },
   "outputs": [
    {
     "data": {
      "text/plain": [
       "['VM1', 'VM1 Clone']"
      ]
     },
     "execution_count": 3,
     "metadata": {},
     "output_type": "execute_result"
    }
   ],
   "source": [
    "################# list of VMs\n",
    "vm = [m.name for m in vbox.machines]\n",
    "vm"
   ]
  },
  {
   "cell_type": "code",
   "execution_count": 4,
   "metadata": {
    "pycharm": {
     "is_executing": false
    }
   },
   "outputs": [
    {
     "data": {
      "text/plain": [
       "[MachineState(1), MachineState(1)]"
      ]
     },
     "execution_count": 4,
     "metadata": {},
     "output_type": "execute_result"
    }
   ],
   "source": [
    "################# State of each VM: 5=FirstOnline , 1=PoweredOff\n",
    "states = [m.state for m in vbox.machines]\n",
    "states"
   ]
  },
  {
   "cell_type": "code",
   "execution_count": 5,
   "metadata": {
    "pycharm": {
     "is_executing": false
    }
   },
   "outputs": [],
   "source": [
    "################# define machine and its session\n",
    "machine = vbox.machines[0]\n",
    "session = vmanager.get_session()"
   ]
  },
  {
   "cell_type": "code",
   "execution_count": null,
   "metadata": {},
   "outputs": [],
   "source": [
    "################# run a VM run a VM Option 1\n",
    "progress = machine.launch_vm_process(session, \"gui\", [])\n",
    "progress.wait_for_completion()"
   ]
  },
  {
   "cell_type": "code",
   "execution_count": null,
   "metadata": {},
   "outputs": [],
   "source": [
    "################# run a VM Option 2\n",
    "import subprocess as subprocess\n",
    "import shlex\n",
    "import os\n",
    "\n",
    "path = 'C:\\Program Files\\Oracle\\VirtualBox'\n",
    "os.chdir(path)\n",
    "start = shlex.split(\"VBoxManage startvm\") + [machine.name]\n",
    "process = subprocess.Popen(start,stdout=subprocess.PIPE,stderr=subprocess.PIPE)\n",
    "stdout, stderr = process.communicate()\n",
    "stdout = str(stdout).encode(\"utf-8\")\n",
    "print(stdout.decode(\"unicode_escape\"))\n",
    "stderr = str(stderr).encode(\"utf-8\")\n",
    "print(stderr.decode(\"unicode_escape\"))\n"
   ]
  },
  {
   "cell_type": "code",
   "execution_count": 6,
   "metadata": {
    "pycharm": {
     "is_executing": false
    }
   },
   "outputs": [
    {
     "data": {
      "text/plain": [
       "<virtualbox.library_ext.progress.IProgress at 0x1de935d87f0>"
      ]
     },
     "execution_count": 6,
     "metadata": {},
     "output_type": "execute_result"
    }
   ],
   "source": [
    "################# shutdown a VM Option 1\n",
    "session.console.power_down()"
   ]
  },
  {
   "cell_type": "code",
   "execution_count": null,
   "metadata": {},
   "outputs": [],
   "source": [
    "################# shutdown a VM Option 2\n",
    "import subprocess as subprocess\n",
    "import shlex\n",
    "import os\n",
    "\n",
    "path = 'C:\\Program Files\\Oracle\\VirtualBox'\n",
    "os.chdir(path)\n",
    "shutdown = shlex.split(\"VBoxManage controlvm\") + [machine.name] + [\"poweroff\"]\n",
    "process = subprocess.Popen(shutdown,stdout=subprocess.PIPE,stderr=subprocess.PIPE)\n",
    "stdout, stderr = process.communicate()\n",
    "stdout = str(stdout).encode(\"utf-8\")\n",
    "print(stdout.decode(\"unicode_escape\"))\n",
    "stderr = str(stderr).encode(\"utf-8\")\n",
    "print(stderr.decode(\"unicode_escape\"))"
   ]
  },
  {
   "cell_type": "code",
   "execution_count": 7,
   "metadata": {
    "pycharm": {
     "is_executing": false
    }
   },
   "outputs": [],
   "source": [
    "################# clone a VM\n",
    "machine.clone(snapshot_name_or_id=None,\n",
    "              mode=virtualbox.library.CloneMode.machine_state,\n",
    "              options=[], name=\"VM2\",\n",
    "              uuid=None, groups=[], basefolder='D:/Cloud/123', register=True)"
   ]
  },
  {
   "cell_type": "code",
   "execution_count": 8,
   "metadata": {
    "pycharm": {
     "is_executing": false
    }
   },
   "outputs": [],
   "source": [
    "################# delete a VM\n",
    "machine = vbox.machines[2]\n",
    "machine.remove(\"delete=true\")"
   ]
  },
  {
   "cell_type": "code",
   "execution_count": 9,
   "metadata": {
    "pycharm": {
     "is_executing": false
    }
   },
   "outputs": [],
   "source": [
    "################# change memory and cpu core\n",
    "machine.lock_machine(session, virtualbox.library.LockType(2)) #Locktype: null(0) shared(1) write(2) vm(3)\n",
    "mute = session.machine\n",
    "mute.memory_size = 2048\n",
    "mute.cpu_count = 2\n",
    "mute.save_settings()\n",
    "session.unlock_machine()"
   ]
  },
  {
   "cell_type": "code",
   "execution_count": 10,
   "metadata": {
    "pycharm": {
     "is_executing": false
    }
   },
   "outputs": [
    {
     "name": "stdout",
     "output_type": "stream",
     "text": [
      "b''\n",
      "b'VBoxManage.exe: error: Machine \"VM1\" is not running (currently stopping)!\r\n",
      "'\n"
     ]
    }
   ],
   "source": [
    "################# run a command on VM\n",
    "import subprocess as subprocess\n",
    "import shlex\n",
    "import os\n",
    "\n",
    "path = 'C:\\Program Files\\Oracle\\VirtualBox'\n",
    "os.chdir(path)\n",
    "command = shlex.split(\"VBoxManage help guestcontrol\")\n",
    "command1 = shlex.split(\"VBoxManage guestcontrol VM1 --username sajjad --password sajjad run --exe /bin/ls\")\n",
    "process = subprocess.Popen(command1,stdout=subprocess.PIPE, stderr=subprocess.PIPE)\n",
    "stdout, stderr = process.communicate()\n",
    "stdout = str(stdout).encode(\"utf-8\")\n",
    "print(stdout.decode(\"unicode_escape\"))\n",
    "stderr = str(stderr).encode(\"utf-8\")\n",
    "print(stderr.decode(\"unicode_escape\"))"
   ]
  },
  {
   "cell_type": "code",
   "execution_count": 10,
   "metadata": {
    "pycharm": {
     "is_executing": false
    }
   },
   "outputs": [],
   "source": []
  }
 ],
 "metadata": {
  "kernelspec": {
   "display_name": "Python 3",
   "language": "python",
   "name": "python3"
  },
  "language_info": {
   "codemirror_mode": {
    "name": "ipython",
    "version": 3
   },
   "file_extension": ".py",
   "mimetype": "text/x-python",
   "name": "python",
   "nbconvert_exporter": "python",
   "pygments_lexer": "ipython3",
   "version": "3.8.1"
  },
  "pycharm": {
   "stem_cell": {
    "cell_type": "raw",
    "source": [],
    "metadata": {
     "collapsed": false
    }
   }
  }
 },
 "nbformat": 4,
 "nbformat_minor": 1
}